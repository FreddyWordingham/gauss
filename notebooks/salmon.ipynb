{
 "metadata": {
  "language_info": {
   "codemirror_mode": {
    "name": "ipython",
    "version": 3
   },
   "file_extension": ".py",
   "mimetype": "text/x-python",
   "name": "python",
   "nbconvert_exporter": "python",
   "pygments_lexer": "ipython3",
   "version": 3
  },
  "orig_nbformat": 2
 },
 "nbformat": 4,
 "nbformat_minor": 2,
 "cells": [
  {
   "source": [
    "Modeling salmon spawning.\n",
    "\n",
    "Aim to model the relationship between the number of spawning salmon within a stream, and the number of fry entering the population later that spring.\n",
    "\n",
    "1) Specify and construct model\n",
    "2) Evaluate postierior distribution\n",
    "3) Check the model\n"
   ],
   "cell_type": "markdown",
   "metadata": {}
  }
 ]
}